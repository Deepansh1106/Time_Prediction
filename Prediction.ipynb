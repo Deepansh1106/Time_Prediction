{
  "nbformat": 4,
  "nbformat_minor": 0,
  "metadata": {
    "colab": {
      "provenance": []
    },
    "kernelspec": {
      "name": "python3",
      "display_name": "Python 3"
    },
    "language_info": {
      "name": "python"
    }
  },
  "cells": [
    {
      "cell_type": "code",
      "execution_count": 2,
      "metadata": {
        "colab": {
          "base_uri": "https://localhost:8080/"
        },
        "id": "gcmxrygUgK0k",
        "outputId": "23cc9c97-d4af-4478-9470-fafaee6f2394"
      },
      "outputs": [
        {
          "output_type": "stream",
          "name": "stdout",
          "text": [
            "✅ Model loaded successfully.\n",
            "Enter Age of Delivery Partner: 34\n",
            "Enter Total Distance (in km): 16\n",
            "Is there a Festival? (Yes/No): No\n",
            "Enter Weather Condition (0 for \"Sunny\", 1 for \"Cloudy\", 2 for \"Rainy\", 3 for \"Foggy\", 4 for \"Windy\"): 2\n",
            "Predicted Delivery Time in Minutes: 17.48\n"
          ]
        }
      ],
      "source": [
        "# Function to get input from the user\n",
        "#def get_user_input():\n",
        "#   age = float(input(\"Enter Age of Delivery Partner: \"))\n",
        "#    distance = float(input(\"Enter Total Distance (in km): \"))\n",
        "#    return np.array([[age, distance]])\n",
        "import pickle\n",
        "import numpy as np\n",
        "with open('delivery_time_model.pkl', 'rb') as f:\n",
        "    model = pickle.load(f)\n",
        "\n",
        "print(\"✅ Model loaded successfully.\")\n",
        "\n",
        "\n",
        "def get_user_input():\n",
        "    # Ask user for required inputs\n",
        "    age = float(input(\"Enter Age of Delivery Partner: \"))\n",
        "    distance = float(input(\"Enter Total Distance (in km): \"))\n",
        "    festival = input(\"Is there a Festival? (Yes/No): \")\n",
        "    weather = input('Enter Weather Condition (0 for \"Sunny\", 1 for \"Cloudy\", 2 for \"Rainy\", 3 for \"Foggy\", 4 for \"Windy\"): ')\n",
        "    # Create zero-filled feature vector\n",
        "    input_array = np.zeros((1, 29))  # 29 features\n",
        "\n",
        "    # Manually set the known inputs at their respective indexes\n",
        "    input_array[0, 0] = age\n",
        "    input_array[0, 28] = distance\n",
        "\n",
        "    # Encode categorical inputs (assuming label encoding: Yes=1, No=0)\n",
        "    input_array[0, 11] = 1 if festival.lower() == \"yes\" else 0\n",
        "\n",
        "    # Example weather encoding\n",
        "    weather_map = {'Sunny': 0, 'Stormy': 1, 'Cloudy': 2, 'Fog': 3, 'Windy': 4}\n",
        "    input_array[0, 14] = weather_map.get(weather, 0)  # Default to 0 if unknown\n",
        "\n",
        "    return input_array\n",
        "\n",
        "# Collect user input\n",
        "features = get_user_input()\n",
        "\n",
        "# Predict using the trained 2-feature model\n",
        "predicted_delivery_time = model.predict(features)\n",
        "print(\"Predicted Delivery Time in Minutes:\", round(predicted_delivery_time[0], 2))"
      ]
    }
  ]
}