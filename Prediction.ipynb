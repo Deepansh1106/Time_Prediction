{
  "nbformat": 4,
  "nbformat_minor": 0,
  "metadata": {
    "colab": {
      "provenance": []
    },
    "kernelspec": {
      "name": "python3",
      "display_name": "Python 3"
    },
    "language_info": {
      "name": "python"
    }
  },
  "cells": [
    {
      "cell_type": "code",
      "execution_count": 7,
      "metadata": {
        "colab": {
          "base_uri": "https://localhost:8080/"
        },
        "id": "gcmxrygUgK0k",
        "outputId": "2c5ee6e2-b9f6-4786-ad3e-39cf230b87a4"
      },
      "outputs": [
        {
          "output_type": "stream",
          "name": "stdout",
          "text": [
            "✅ Model loaded successfully.\n",
            "Enter Age of Delivery Partner: 34\n",
            "Enter Delivery Partner's Average Rating (e.g., 4.5): 4\n",
            "Enter Total Distance (in km): 23\n",
            "Is there a Festival? (Yes/No): No\n",
            "Enter Weather Condition (Sunny/Stormy/Cloudy/Fog/Windy): Fog\n",
            "Enter Delivery Date (YYYY-MM-DD): 2025-6-11\n",
            "\n",
            "📦 Predicted Delivery Time (in Minutes): 20.27\n"
          ]
        }
      ],
      "source": [
        "import pickle\n",
        "import numpy as np\n",
        "from datetime import datetime\n",
        "with open('delivery_time_model.pkl', 'rb') as f:\n",
        "    model = pickle.load(f)\n",
        "\n",
        "print(\"✅ Model loaded successfully.\")\n",
        "\n",
        "def month_end_day(date):\n",
        "    from calendar import monthrange\n",
        "    return monthrange(date.year, date.month)[1]\n",
        "\n",
        "def get_user_input():\n",
        "    # Numerical inputs\n",
        "    age = float(input(\"Enter Age of Delivery Partner: \"))\n",
        "    rating = float(input(\"Enter Delivery Partner's Average Rating (e.g., 4.5): \"))\n",
        "    distance = float(input(\"Enter Total Distance (in km): \"))\n",
        "\n",
        "    festival = input(\"Is there a Festival? (Yes/No): \").strip().lower()\n",
        "    weather = input(\"Enter Weather Condition (Sunny/Stormy/Cloudy/Fog/Windy): \").strip().capitalize()\n",
        "    date_str = input(\"Enter Delivery Date (YYYY-MM-DD): \")\n",
        "    delivery_date = datetime.strptime(date_str, \"%Y-%m-%d\")\n",
        "\n",
        "    input_array = np.zeros((1, 17))  # 17 features\n",
        "    input_array[0, 0] = age\n",
        "    input_array[0, 1] = rating\n",
        "    input_array[0, 4] = distance\n",
        "    input_array[0, 2] = 1 if festival == \"yes\" else 0\n",
        "\n",
        "    weather_map = {'Sunny': 0, 'Stormy': 1, 'Cloudy': 2, 'Fog': 3, 'Windy': 4}\n",
        "    input_array[0, 3] = weather_map.get(weather, 0)\n",
        "\n",
        "    input_array[0, 5] = delivery_date.day\n",
        "    input_array[0, 6] = delivery_date.month\n",
        "    input_array[0, 7] = (delivery_date.month - 1) // 3 + 1\n",
        "    input_array[0, 8] = delivery_date.year\n",
        "    input_array[0, 9] = delivery_date.weekday()\n",
        "    input_array[0, 10] = 1 if delivery_date.day == 1 else 0\n",
        "    input_array[0, 11] = 1 if delivery_date.day == month_end_day(delivery_date) else 0\n",
        "    input_array[0, 12] = 1 if delivery_date.month in [1, 4, 7, 10] and delivery_date.day == 1 else 0\n",
        "    input_array[0, 13] = 1 if delivery_date.month in [3, 6, 9, 12] and delivery_date.day == month_end_day(delivery_date) else 0\n",
        "    input_array[0, 14] = 1 if delivery_date.month == 1 and delivery_date.day == 1 else 0\n",
        "    input_array[0, 15] = 1 if delivery_date.month == 12 and delivery_date.day == 31 else 0\n",
        "    input_array[0, 16] = 1 if delivery_date.weekday() >= 5 else 0\n",
        "\n",
        "    return input_array\n",
        "\n",
        "\n",
        "\n",
        "features = get_user_input()\n",
        "predicted = model.predict(features)\n",
        "print(\"\\n📦 Predicted Delivery Time (in Minutes):\", round(predicted[0], 2))\n"
      ]
    },
    {
      "cell_type": "code",
      "source": [],
      "metadata": {
        "id": "g7grb-c7Irnn"
      },
      "execution_count": null,
      "outputs": []
    }
  ]
}